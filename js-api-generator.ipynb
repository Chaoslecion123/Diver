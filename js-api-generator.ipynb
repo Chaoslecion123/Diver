{
 "cells": [
  {
   "cell_type": "markdown",
   "metadata": {},
   "source": [
    "# Generador de JavaScript API"
   ]
  },
  {
   "cell_type": "markdown",
   "metadata": {},
   "source": [
    "## Utilities"
   ]
  },
  {
   "cell_type": "markdown",
   "metadata": {},
   "source": [
    "### Global imports"
   ]
  },
  {
   "cell_type": "code",
   "execution_count": 1,
   "metadata": {},
   "outputs": [],
   "source": [
    "import django\n",
    "import textwrap\n",
    "import os\n",
    "import json\n",
    "import re"
   ]
  },
  {
   "cell_type": "markdown",
   "metadata": {},
   "source": [
    "### Common functions"
   ]
  },
  {
   "cell_type": "code",
   "execution_count": 2,
   "metadata": {},
   "outputs": [],
   "source": [
    "def camel2snake(string):\n",
    "    regex = re.sub('(.)([A-Z][a-z]+)', r'\\1_\\2', string)\n",
    "    return re.sub('([a-z0-9])([A-Z])', r'\\1_\\2', regex).lower()"
   ]
  },
  {
   "cell_type": "code",
   "execution_count": 3,
   "metadata": {},
   "outputs": [],
   "source": [
    "def get_internal_type(field):\n",
    "    try:\n",
    "        return field.get_internal_type()\n",
    "    except Exception as _:\n",
    "        return field.__class__.__name__"
   ]
  },
  {
   "cell_type": "code",
   "execution_count": 4,
   "metadata": {},
   "outputs": [],
   "source": [
    "def get_related_model(field):\n",
    "    try:\n",
    "        return field.related_model._meta.label\n",
    "    except Exception as _:\n",
    "        return None"
   ]
  },
  {
   "cell_type": "markdown",
   "metadata": {},
   "source": [
    "## API Generator"
   ]
  },
  {
   "cell_type": "code",
   "execution_count": 5,
   "metadata": {},
   "outputs": [],
   "source": [
    "def generateJsAPI(model, destination_dir):\n",
    "    # Name of the model\n",
    "    model_name = model.__name__.replace(\"Bss\", \"\")\n",
    "    \n",
    "    # Lookup field in Django API\n",
    "    lookup_field = getattr(model, 'lookup_field', 'id')\n",
    "    # for aestethics\n",
    "    lookup_type = 'int' if lookup_field == 'id' else 'string'\n",
    "    lookup_type = f'{{{lookup_type}}}'\n",
    "    \n",
    "    file_name = camel2snake(model_name).replace('_','-')\n",
    "    endpoint = camel2snake(model_name).upper()\n",
    "    path_name = camel2snake(model_name).replace('_','-')\n",
    "    object_name = camel2snake(model_name)\n",
    "    \n",
    "    api = f\"\"\"        /**\n",
    "         * Shortcut fuctions to make calls to API endpoints related to {object_name.title()} object\n",
    "         */\n",
    "        import {{ camelToSnake }} from '@/_utils'\n",
    "        import {{ paramsSerializer }} from './_utils'\n",
    "        import {{ {endpoint} }} from './_endpoints'\n",
    "        import session from './_session'\n",
    "        \n",
    "        export default {{\n",
    "            /**\n",
    "             * Performs options request to get {object_name}'s schema.\n",
    "             */\n",
    "            options (config = {{}}) {{ \n",
    "                return session.options({endpoint}, config) \n",
    "            }},\n",
    "            /**\n",
    "             * Performs {object_name} listing\n",
    "             */\n",
    "            list (query = {{}}, config = {{}}) {{\n",
    "                config.params = camelToSnake(query)\n",
    "                config.paramsSerializer = paramsSerializer\n",
    "                return session.get({endpoint}, config)\n",
    "            }},\n",
    "            /**\n",
    "             * Performs {object_name} creation\n",
    "             *\n",
    "             * @param {{object}} - {object_name.title()} data\n",
    "             */\n",
    "            create (data, config = {{}}) {{\n",
    "                return session.post({endpoint}, data, config)\n",
    "            }},\n",
    "            /**\n",
    "             * Performs {object_name} retrieve\n",
    "             *\n",
    "             * @param {{{lookup_type}}} - {object_name.title()} {lookup_field.upper()}\n",
    "             */\n",
    "            retrieve ({lookup_field}, query = {{}}, config = {{}}) {{\n",
    "                config.params = camelToSnake(query)\n",
    "                config.paramsSerializer = paramsSerializer\n",
    "                return session.get(`${{{endpoint}}}${{{lookup_field}}}/`, config)\n",
    "            }},\n",
    "            /**\n",
    "             * Performs {object_name} update\n",
    "             *\n",
    "             * @param {lookup_type:8s} - {object_name.title()} {lookup_field.upper()}\n",
    "             * @param {{object}} - {object_name.title()} data\n",
    "             */\n",
    "            update ({lookup_field}, data, config = {{}}) {{\n",
    "                return session.patch(`${{{endpoint}}}${{{lookup_field}}}/`, data, config)\n",
    "            }},\n",
    "            /**\n",
    "             * Performs {object_name} retrieve\n",
    "             *\n",
    "             * @param {{{lookup_type}}} - {lookup_field.upper()} of {object_name.title()} to delete\n",
    "             */\n",
    "            delete ({lookup_field}, config = {{}}) {{\n",
    "                return session.delete(`${{{endpoint}}}${{{lookup_field}}}/`, config)\n",
    "            }}\n",
    "        }}\n",
    "        \"\"\"\n",
    "    \n",
    "    api = textwrap.dedent(api).split('\\n')\n",
    "    api = [line.rstrip() for line in api]\n",
    "    api = [line[:10].replace('    ', '  ') + line[10:] for line in api]\n",
    "    api = '\\n'.join(api)\n",
    "    \n",
    "    api_file = os.path.join(destination_dir, file_name + \".js\")\n",
    "    \n",
    "    with open(api_file, 'w') as file:\n",
    "        file.write(api)\n",
    "    file.close()\n",
    "    \n",
    "    print(f\"\"\"export const {endpoint} = BASE + \"{path_name}/\" \"\"\")"
   ]
  },
  {
   "cell_type": "code",
   "execution_count": 6,
   "metadata": {},
   "outputs": [
    {
     "name": "stdout",
     "output_type": "stream",
     "text": [
      "export const ADDRESS = BASE + \"address/\" \n",
      "export const ASSOCIATION = BASE + \"association/\" \n",
      "export const ATTRIBUTE = BASE + \"attribute/\" \n",
      "export const ATTRIBUTE_TRANSLATION = BASE + \"attribute-translation/\" \n",
      "export const ATTRIBUTE_VALUE = BASE + \"attribute-value/\" \n",
      "export const ATTRIBUTE_VALUE_TRANSLATION = BASE + \"attribute-value-translation/\" \n",
      "export const AUTHORIZATION_KEY = BASE + \"authorization-key/\" \n",
      "export const BANK_ACCOUNT = BASE + \"bank-account/\" \n",
      "export const BANNER = BASE + \"banner/\" \n",
      "export const BENEFIT = BASE + \"benefit/\" \n",
      "export const BENEFIT_TRANSLATION = BASE + \"benefit-translation/\" \n",
      "export const BRAND = BASE + \"brand/\" \n",
      "export const BRAND_TRANSLATION = BASE + \"brand-translation/\" \n",
      "export const CATEGORY = BASE + \"category/\" \n",
      "export const CATEGORY_TRANSLATION = BASE + \"category-translation/\" \n",
      "export const CHECKOUT = BASE + \"checkout/\" \n",
      "export const CHECKOUT_LINE = BASE + \"checkout-line/\" \n",
      "export const CITY = BASE + \"city/\" \n",
      "export const CITY_AREA = BASE + \"city-area/\" \n",
      "export const CODE = BASE + \"code/\" \n",
      "export const COLLECTION = BASE + \"collection/\" \n",
      "export const COLLECTION_TRANSLATION = BASE + \"collection-translation/\" \n",
      "export const CONTENT_TYPE = BASE + \"content-type/\" \n",
      "export const CONVERSION_RATE = BASE + \"conversion-rate/\" \n",
      "export const COUNTRY_AREA = BASE + \"country-area/\" \n",
      "export const CUSTOMER_NOTE = BASE + \"customer-note/\" \n",
      "export const DIGITAL_CONTENT = BASE + \"digital-content/\" \n",
      "export const DIGITAL_CONTENT_URL = BASE + \"digital-content-url/\" \n",
      "export const FAVORITE = BASE + \"favorite/\" \n",
      "export const FAVORITE_COLLECTION = BASE + \"favorite-collection/\" \n",
      "export const FOOTER_ITEM = BASE + \"footer-item/\" \n",
      "export const FULFILLMENT = BASE + \"fulfillment/\" \n",
      "export const FULFILLMENT_LINE = BASE + \"fulfillment-line/\" \n",
      "export const GLOVO_DELIVERY_PERMISSION = BASE + \"glovo-delivery-permission/\" \n",
      "export const GLOVO_ORDER = BASE + \"glovo-order/\" \n",
      "export const GROUP = BASE + \"group/\" \n",
      "export const IMPERSONATION_LOG = BASE + \"impersonation-log/\" \n",
      "export const LOG_ENTRY = BASE + \"log-entry/\" \n",
      "export const MENU = BASE + \"menu/\" \n",
      "export const MENU_ITEM = BASE + \"menu-item/\" \n",
      "export const MENU_ITEM_TRANSLATION = BASE + \"menu-item-translation/\" \n",
      "export const NEWSLETTER_SUBSCRIPTION = BASE + \"newsletter-subscription/\" \n",
      "export const NONCE = BASE + \"nonce/\" \n",
      "export const ORDER = BASE + \"order/\" \n",
      "export const ORDER_EVENT = BASE + \"order-event/\" \n",
      "export const ORDER_EXTENSION = BASE + \"order-extension/\" \n",
      "export const ORDER_LINE = BASE + \"order-line/\" \n",
      "export const PAGE = BASE + \"page/\" \n",
      "export const PAGE_TRANSLATION = BASE + \"page-translation/\" \n",
      "export const PARTIAL = BASE + \"partial/\" \n",
      "export const PAYMENT = BASE + \"payment/\" \n",
      "export const PERMISSION = BASE + \"permission/\" \n",
      "export const PHONE = BASE + \"phone/\" \n",
      "export const PHYSICAL_STORE = BASE + \"physical-store/\" \n",
      "export const PRODUCT = BASE + \"product/\" \n",
      "export const PRODUCT_IMAGE = BASE + \"product-image/\" \n",
      "export const PRODUCT_TRANSLATION = BASE + \"product-translation/\" \n",
      "export const PRODUCT_TYPE = BASE + \"product-type/\" \n",
      "export const PRODUCT_VARIANT = BASE + \"product-variant/\" \n",
      "export const PRODUCT_VARIANT_TRANSLATION = BASE + \"product-variant-translation/\" \n",
      "export const RATE_TYPES = BASE + \"rate-types/\" \n",
      "export const REVIEW = BASE + \"review/\" \n",
      "export const SALE = BASE + \"sale/\" \n",
      "export const SALE_TRANSLATION = BASE + \"sale-translation/\" \n",
      "export const SCENE = BASE + \"scene/\" \n",
      "export const SESSION = BASE + \"session/\" \n",
      "export const SHIPPING_METHOD = BASE + \"shipping-method/\" \n",
      "export const SHIPPING_METHOD_TRANSLATION = BASE + \"shipping-method-translation/\" \n",
      "export const SHIPPING_ZONE = BASE + \"shipping-zone/\" \n",
      "export const SITE = BASE + \"site/\" \n",
      "export const SITE_SETTINGS = BASE + \"site-settings/\" \n",
      "export const SITE_SETTINGS_TRANSLATION = BASE + \"site-settings-translation/\" \n",
      "export const SLIDE = BASE + \"slide/\" \n",
      "export const SLIDER = BASE + \"slider/\" \n",
      "export const SOCIAL_NETWORK = BASE + \"social-network/\" \n",
      "export const SPECIAL_PAGE = BASE + \"special-page/\" \n",
      "export const SPOTLIGHT = BASE + \"spotlight/\" \n",
      "export const TAG = BASE + \"tag/\" \n",
      "export const TAGGED_ITEM = BASE + \"tagged-item/\" \n",
      "export const TASK_RESULT = BASE + \"task-result/\" \n",
      "export const TOKEN = BASE + \"token/\" \n",
      "export const TRANSACTION = BASE + \"transaction/\" \n",
      "export const USER = BASE + \"user/\" \n",
      "export const USER_SOCIAL_AUTH = BASE + \"user-social-auth/\" \n",
      "export const VAT = BASE + \"vat/\" \n",
      "export const VARIANT_IMAGE = BASE + \"variant-image/\" \n",
      "export const VOUCHER = BASE + \"voucher/\" \n",
      "export const VOUCHER_TRANSLATION = BASE + \"voucher-translation/\" \n"
     ]
    }
   ],
   "source": [
    "models = django.apps.apps.get_models(include_auto_created=False)\n",
    "models = filter(lambda m: not m._meta.abstract, models)\n",
    "models = dict(map(lambda m: (m.__name__.replace(\"Bss\", \"\"), m), models))\n",
    "models = list(map(lambda n: (n, models[n]), sorted(models.keys())))\n",
    "models\n",
    "\n",
    "for (name, model) in models:\n",
    "    # generateJsAPI(model, '../frontend/src/api/')\n",
    "    generateJsAPI(model, 'autogenerated/js/api/')"
   ]
  },
  {
   "cell_type": "code",
   "execution_count": null,
   "metadata": {},
   "outputs": [],
   "source": []
  },
  {
   "cell_type": "code",
   "execution_count": null,
   "metadata": {},
   "outputs": [],
   "source": []
  },
  {
   "cell_type": "code",
   "execution_count": null,
   "metadata": {},
   "outputs": [],
   "source": []
  },
  {
   "cell_type": "code",
   "execution_count": null,
   "metadata": {},
   "outputs": [],
   "source": []
  },
  {
   "cell_type": "code",
   "execution_count": null,
   "metadata": {},
   "outputs": [],
   "source": []
  },
  {
   "cell_type": "code",
   "execution_count": null,
   "metadata": {},
   "outputs": [],
   "source": []
  },
  {
   "cell_type": "code",
   "execution_count": null,
   "metadata": {},
   "outputs": [],
   "source": []
  },
  {
   "cell_type": "code",
   "execution_count": null,
   "metadata": {},
   "outputs": [],
   "source": []
  }
 ],
 "metadata": {
  "kernelspec": {
   "display_name": "Django Shell-Plus",
   "language": "python",
   "name": "django_extensions"
  },
  "language_info": {
   "codemirror_mode": {
    "name": "ipython",
    "version": 3
   },
   "file_extension": ".py",
   "mimetype": "text/x-python",
   "name": "python",
   "nbconvert_exporter": "python",
   "pygments_lexer": "ipython3",
   "version": "3.7.1"
  }
 },
 "nbformat": 4,
 "nbformat_minor": 2
}
